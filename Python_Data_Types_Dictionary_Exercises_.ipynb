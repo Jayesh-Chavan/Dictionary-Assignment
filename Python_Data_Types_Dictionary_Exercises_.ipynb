{
 "cells": [
  {
   "cell_type": "markdown",
   "metadata": {
    "id": "goiB2WZ6pkko"
   },
   "source": [
    "# **Python Data Types: Dictionary - Exercises**"
   ]
  },
  {
   "cell_type": "markdown",
   "metadata": {
    "id": "JWRD5f0pecjW"
   },
   "source": [
    "Q.1. Write a Python program to combine two dictionary adding values for common keys. Go to the editor\n",
    "\n",
    "d1 = {'a': 100, 'b': 200, 'c':300}\n",
    "\n",
    "d2 = {'a': 300, 'b': 200, 'd':400}\n",
    "\n",
    "Sample output: Counter({'a': 400, 'b': 400, 'd': 400, 'c': 300})"
   ]
  },
  {
   "cell_type": "code",
   "execution_count": 77,
   "metadata": {
    "id": "ls6K9GOaehFq"
   },
   "outputs": [
    {
     "data": {
      "text/plain": [
       "Counter({'a': 400, 'b': 400, 'c': 500, 'd': 400})"
      ]
     },
     "execution_count": 77,
     "metadata": {},
     "output_type": "execute_result"
    }
   ],
   "source": [
    "from collections import Counter\n",
    "d1 = {'a': 100, 'b': 200, 'c':300}\n",
    "\n",
    "d2 = {'a': 300, 'b': 200, 'd':400,'c':200}\n",
    "Counter(d1)+Counter(d2)\n"
   ]
  },
  {
   "cell_type": "markdown",
   "metadata": {
    "id": "bc09oJj8fJPc"
   },
   "source": [
    "Q.2.Write a Python program to combine two lists into a dictionary, where the elements of the first one serve as the keys and the elements of the second one serve as the values. The values of the first list need to be unique and hashable. Go to the editor\n",
    "\n",
    "\n",
    "\n",
    "Original lists:\n",
    "\n",
    "l1 = ['a', 'b', 'c', 'd', 'e', 'f']\n",
    "\n",
    "l2 = [1, 2, 3, 4, 5]\n",
    "\n",
    "Sample Output:\n",
    "\n",
    "Combine the values of the said two lists into a dictionary:\n",
    "\n",
    "{'a': 1, 'b': 2, 'c': 3, 'd': 4, 'e': 5}"
   ]
  },
  {
   "cell_type": "code",
   "execution_count": 12,
   "metadata": {
    "id": "JsnnPQTVfUFU"
   },
   "outputs": [
    {
     "name": "stdout",
     "output_type": "stream",
     "text": [
      "{'a': 1, 'b': 2, 'c': 3, 'd': 4, 'e': 5}\n"
     ]
    }
   ],
   "source": [
    "l1 = ['a', 'b', 'c', 'd', 'e', 'f']\n",
    "\n",
    "l2 = [1, 2, 3, 4, 5]\n",
    "d={}\n",
    "for i in range(len(l1)-1):\n",
    "    d[l1[i]]=l2[i]\n",
    "print(d)"
   ]
  },
  {
   "cell_type": "markdown",
   "metadata": {
    "id": "sfUwhAqxgxoV"
   },
   "source": [
    "Q.3. Write a Python program to find the key of the maximum value in a dictionary. Go to the editor\n",
    "\n",
    "Original dictionary elements:\n",
    "\n",
    "{'Theodore': 19, 'Roxanne': 22, 'Mathew': 21, 'Betty': 20}\n",
    "\n",
    "**Sample Output:** Finds the key of the maximum and minimum value of the said dictionary:\n",
    "\n",
    "('Roxanne', 'Theodore')"
   ]
  },
  {
   "cell_type": "code",
   "execution_count": 78,
   "metadata": {
    "id": "jF88i8j2gTYs"
   },
   "outputs": [
    {
     "name": "stdout",
     "output_type": "stream",
     "text": [
      "Theodore\n",
      "Roxanne\n"
     ]
    }
   ],
   "source": [
    "d={'Theodore': 19, 'Roxanne': 22, 'Mathew': 21, 'Betty': 20}\n",
    "for key,value in d.items():\n",
    "    if d[key]==min(d.values()):\n",
    "        print(key)\n",
    "    if d[key]==max(d.values()):\n",
    "        print(key)"
   ]
  },
  {
   "cell_type": "markdown",
   "metadata": {
    "id": "KLLN4GEqhMnc"
   },
   "source": [
    " Q.4. Write a Python program to combines two or more dictionaries, creating a list of values for each key. Go to the editor\n",
    "\n",
    "\n",
    "Original dictionaries:\n",
    "\n",
    "l1 = {'w': 50, 'x': 100, 'y': 'Green', 'z': 400}\n",
    "\n",
    "l2 = {'x': 300, 'y': 'Red', 'z': 600}\n",
    "\n",
    "**Sample Output:** Combined dictionaries, creating a list of values for each key:\n",
    "\n",
    "{'w': [50], 'x': [100, 300], 'y': ['Green', 'Red'], 'z': [400, 600]}"
   ]
  },
  {
   "cell_type": "code",
   "execution_count": 49,
   "metadata": {
    "id": "27XO2I0Pg_ay"
   },
   "outputs": [
    {
     "name": "stdout",
     "output_type": "stream",
     "text": [
      "{'w': 50, 'x': 100, 'y': 'Green', 'z': 400, 'v': 1}\n",
      "{'x': 300, 'y': 'Red', 'z': 600, 'p': 100, 'w': 200, 'q': 300}\n"
     ]
    }
   ],
   "source": [
    "l1 = {'w': 50, 'x': 100, 'y': 'Green', 'z': 400,'v':1}\n",
    "l2 = {'x': 300, 'y': 'Red', 'z': 600,'p':100,'w':200,'q':300}\n",
    "d={}\n",
    "for key1,value1 in l1.items():\n",
    "    for key2,value2 in l2.items():\n",
    "        if (key1==key2)  :\n",
    "            print('-'*80)\n",
    "            d[key1]=[value1,value2]\n",
    "        elif (key1!=key2):\n",
    "            print('*'*80)\n",
    "            d[key1]=[value1]\n",
    "        \n",
    "print(d)\n"
   ]
  },
  {
   "cell_type": "code",
   "execution_count": 50,
   "metadata": {},
   "outputs": [],
   "source": [
    "s=set(list(l1.keys())+list(l2.keys()))"
   ]
  },
  {
   "cell_type": "code",
   "execution_count": 51,
   "metadata": {},
   "outputs": [
    {
     "name": "stdout",
     "output_type": "stream",
     "text": [
      "{'w': [50, 200], 'x': [100, 300], 'v': [1], 'p': [100], 'y': ['Green', 'Red'], 'q': [300], 'z': [400, 600]}\n"
     ]
    }
   ],
   "source": [
    "d={}\n",
    "for i in s:\n",
    "   # print(i)\n",
    "    if (i in l1.keys()) and  (i in l2.keys()):\n",
    "        d[i]=[l1[i],l2[i]]\n",
    "    elif (i in l1.keys()):\n",
    "        d[i]=[l1[i]]\n",
    "    else:\n",
    "        d[i]=[l2[i]]\n",
    "print(d)"
   ]
  },
  {
   "cell_type": "markdown",
   "metadata": {
    "id": "0X6AfuLEh9Yb"
   },
   "source": [
    "Q.5. Write a Python program to check if a specific Key and a value exist in a dictionary. Go to the editor\n",
    "\n",
    "Original dictionary:\n",
    "\n",
    "[{'student_id': 1, 'name': 'Jean Castro', 'class': 'V'}, {'student_id': 2, 'name': 'Lula Powell', 'class': 'V'}, {'student_id': 3, 'name': 'Brian Howell', 'class': 'VI'}, {'student_id': 4, 'name': 'Lynne Foster', 'class': 'VI'}, {'student_id': 5, 'name': 'Zachary Simon', 'class': 'VII'}]\n",
    "\n",
    "Check if a specific Key and a value exist in the said dictionary:\n",
    "\n",
    "True\n",
    "\n",
    "True\n",
    "\n",
    "True\n",
    "\n",
    "False\n",
    "\n",
    "False\n",
    "\n",
    "False"
   ]
  },
  {
   "cell_type": "code",
   "execution_count": 123,
   "metadata": {
    "id": "Ccxu9y_8hgOy"
   },
   "outputs": [
    {
     "ename": "ValueError",
     "evalue": "too many values to unpack (expected 2)",
     "output_type": "error",
     "traceback": [
      "\u001b[1;31m---------------------------------------------------------------------------\u001b[0m",
      "\u001b[1;31mValueError\u001b[0m                                Traceback (most recent call last)",
      "\u001b[1;32m<ipython-input-123-acb03fa4ef29>\u001b[0m in \u001b[0;36m<module>\u001b[1;34m\u001b[0m\n\u001b[0;32m      5\u001b[0m     {'student_id': 5, 'name': 'Zachary Simon', 'class': 'VII'}]\n\u001b[0;32m      6\u001b[0m \u001b[1;32mfor\u001b[0m \u001b[0mi\u001b[0m \u001b[1;32min\u001b[0m \u001b[0ml1\u001b[0m\u001b[1;33m:\u001b[0m\u001b[1;33m\u001b[0m\u001b[1;33m\u001b[0m\u001b[0m\n\u001b[1;32m----> 7\u001b[1;33m     \u001b[1;32mfor\u001b[0m \u001b[0mk\u001b[0m\u001b[1;33m,\u001b[0m\u001b[0mv\u001b[0m \u001b[1;32min\u001b[0m \u001b[0mi\u001b[0m\u001b[1;33m:\u001b[0m\u001b[1;33m\u001b[0m\u001b[1;33m\u001b[0m\u001b[0m\n\u001b[0m\u001b[0;32m      8\u001b[0m         \u001b[0mprint\u001b[0m\u001b[1;33m(\u001b[0m\u001b[0mk\u001b[0m\u001b[1;33m)\u001b[0m\u001b[1;33m\u001b[0m\u001b[1;33m\u001b[0m\u001b[0m\n",
      "\u001b[1;31mValueError\u001b[0m: too many values to unpack (expected 2)"
     ]
    }
   ],
   "source": [
    "l1=[{'student_id': 1, 'name': 'Jean Castro', 'class': 'V'},\n",
    "    {'student_id': 2, 'name': 'Lula Powell', 'class': 'V'},\n",
    "    {'student_id': 3, 'name': 'Brian Howell', 'class': 'VI'},\n",
    "    {'student_id': 4, 'name': 'Lynne Foster', 'class': 'VI'}, \n",
    "    {'student_id': 5, 'name': 'Zachary Simon', 'class': 'VII'}]\n",
    "for i in l1:\n",
    "    for k,v in i:\n",
    "        print(k)"
   ]
  },
  {
   "cell_type": "markdown",
   "metadata": {
    "id": "8q0QgsGPiTFx"
   },
   "source": [
    "Q.6. Write a Python program to count the frequency in a given dictionary. Go to the editor\n",
    "\n",
    "Original Dictionary:\n",
    "\n",
    "{'V': 10, 'VI': 10, 'VII': 40, 'VIII': 20, 'IX': 70, 'X': 80, 'XI': 40, 'XII': 20}\n",
    "\n",
    "**Sample Output =** Count the frequency of the said dictionary:\n",
    "\n",
    "Counter({10: 2, 40: 2, 20: 2, 70: 1, 80: 1})"
   ]
  },
  {
   "cell_type": "code",
   "execution_count": 115,
   "metadata": {
    "id": "sqQmQuEViH-R"
   },
   "outputs": [
    {
     "name": "stdout",
     "output_type": "stream",
     "text": [
      "{110: 1, 10: 1, 40: 2, 20: 3, 70: 1, 80: 1}\n"
     ]
    }
   ],
   "source": [
    "d1={'V': 110, 'VI': 10, 'VII': 40, 'VIII': 20, 'IX': 70, 'X': 80, 'XI': 40, 'XII': 20,'33':20}\n",
    "l=list(d1.values())\n",
    "d={}\n",
    "for i in l:\n",
    "    d[i]=l.count(i)\n",
    "print(d)"
   ]
  },
  {
   "cell_type": "code",
   "execution_count": 118,
   "metadata": {},
   "outputs": [
    {
     "data": {
      "text/plain": [
       "[110, 10, 40, 20, 70, 80, 40, 20, 20]"
      ]
     },
     "execution_count": 118,
     "metadata": {},
     "output_type": "execute_result"
    }
   ],
   "source": [
    "l=[i for i in d1.values()]"
   ]
  },
  {
   "cell_type": "code",
   "execution_count": 90,
   "metadata": {},
   "outputs": [
    {
     "data": {
      "text/plain": [
       "Counter({10: 2, 40: 2, 20: 3, 70: 1, 80: 1})"
      ]
     },
     "execution_count": 90,
     "metadata": {},
     "output_type": "execute_result"
    }
   ],
   "source": [
    "from collections import Counter\n",
    "d1={'V': 10, 'VI': 10, 'VII': 40, 'VIII': 20, 'IX': 70, 'X': 80, 'XI': 40, 'XII': 20,'33':20}\n",
    "d=Counter(d1.values())\n",
    "d"
   ]
  },
  {
   "cell_type": "markdown",
   "metadata": {
    "id": "dMmbY7H1iulo"
   },
   "source": [
    "Q.7. Write a Python program to find shortest list of values with the keys in a given dictionary. Go to the editor\n",
    "\n",
    "Original Dictionary: {'V': [10, 12], 'VI': [10], 'VII': [10, 20, 30, 40], 'VIII': [20], 'IX': [10, 30, 50, 70], 'X': [80]}\n",
    "\n",
    " **Sample Output =** Shortest list of values with the keys of the said dictionary:   \n",
    "  ['VI', 'VIII', 'X']"
   ]
  },
  {
   "cell_type": "code",
   "execution_count": 156,
   "metadata": {
    "id": "BtqyzbYtihBJ"
   },
   "outputs": [],
   "source": [
    "d1={'V': [10, 12], 'VI': [10], 'VII': [10, 20, 30, 40], 'VIII': [20], 'IX': [10, 30, 50, 70], 'X': [80]}\n",
    "\n"
   ]
  },
  {
   "cell_type": "code",
   "execution_count": 151,
   "metadata": {},
   "outputs": [
    {
     "data": {
      "text/plain": [
       "[[10, 12], [10], [10, 20, 30, 40], [20], [10, 30, 50, 70], [80]]"
      ]
     },
     "execution_count": 151,
     "metadata": {},
     "output_type": "execute_result"
    }
   ],
   "source": [
    "for i in range(6):\n",
    "    for k,if l1==len(l):"
   ]
  },
  {
   "cell_type": "markdown",
   "metadata": {
    "id": "nV8tS94bj0bj"
   },
   "source": [
    "Q.8. Write a Python program to find the specified number of maximum values in a given dictionary. Go to the editor\n",
    "\n",
    "**Original Dictionary:**   {'a': 5, 'b': 14, 'c': 32, 'd': 35, 'e': 24, 'f': 100, 'g': 57, 'h': 8, 'i': 100}\n",
    "\n",
    "**Required Output =**\n",
    "\n",
    "1 maximum value(s) in the said dictionary:\n",
    "\n",
    "['f']\n",
    "\n",
    "2 maximum value(s) in the said dictionary:\n",
    "\n",
    "['f', 'i']\n",
    "\n",
    "5 maximum value(s) in the said dictionary:\n",
    "\n",
    "['f', 'i', 'g', 'd', 'c']"
   ]
  },
  {
   "cell_type": "code",
   "execution_count": 132,
   "metadata": {},
   "outputs": [],
   "source": [
    "d1={'a': 5, 'b': 14, 'c': 32, 'd': 35, 'e': 24, 'f': 100, 'g': 57, 'h': 8, 'i': 100}\n"
   ]
  },
  {
   "cell_type": "code",
   "execution_count": null,
   "metadata": {},
   "outputs": [],
   "source": []
  },
  {
   "cell_type": "markdown",
   "metadata": {
    "id": "nQz2Onp0mv3C"
   },
   "source": [
    "Q.9. Write a Python program to filter even numbers from a given dictionary values. Go to the editor\n",
    "\n",
    "Original Dictionary:\n",
    "\n",
    "D1 = {'V': [1, 4, 6, 10], 'VI': [1, 4, 12], 'VII': [1, 3, 8]}\n",
    "\n",
    "D2 = {'V': [1, 3, 5], 'VI': [1, 5], 'VII': [2, 7, 9]}\n",
    "\n",
    "**Required Output =** Filter even numbers from said dictionary values:\n",
    "\n",
    "D1 = {'V': [4, 6, 10], 'VI': [4, 12], 'VII': [8]}\n",
    "\n",
    "\n",
    "D2 = {'V': [], 'VI': [], 'VII': [2]}"
   ]
  },
  {
   "cell_type": "code",
   "execution_count": 111,
   "metadata": {
    "id": "HNskq06vkkkG"
   },
   "outputs": [],
   "source": [
    "D1 = {'V': [1, 4, 6, 10], 'VI': [1, 4, 12], 'VII': [1, 3, 8]}\n",
    "D = {'V': [1, 3, 5], 'VI': [1, 5], 'VII': [2, 7, 9]}"
   ]
  },
  {
   "cell_type": "code",
   "execution_count": 114,
   "metadata": {},
   "outputs": [
    {
     "data": {
      "text/plain": [
       "{'V': [], 'VI': [], 'VII': [2]}"
      ]
     },
     "execution_count": 114,
     "metadata": {},
     "output_type": "execute_result"
    }
   ],
   "source": [
    "def fun(D1):    \n",
    "    d={key:[index for index in value if not index%2]\n",
    "    for key,value in D1.items()}\n",
    "    return d\n",
    "fun(D)"
   ]
  },
  {
   "cell_type": "code",
   "execution_count": 118,
   "metadata": {},
   "outputs": [
    {
     "data": {
      "text/plain": [
       "[4, 8, 12]"
      ]
     },
     "execution_count": 118,
     "metadata": {},
     "output_type": "execute_result"
    }
   ],
   "source": [
    "l=[1,2,3,4,5,6]\n",
    "[i*2 for i in l if i%2==0]"
   ]
  },
  {
   "cell_type": "markdown",
   "metadata": {
    "id": "1qCVHMOpo9hz"
   },
   "source": [
    "Q.10. Write a Python program to find the length of a given dictionary values. Go to the editor\n",
    "\n",
    "Original Dictionary:\n",
    "\n",
    "D1 = {1: 'red', 2: 'green', 3: 'black', 4: 'white', 5: 'black'}\n",
    "\n",
    "D2 = {'1': 'Austin Little', '2': 'Natasha Howard', '3': 'Alfred Mullins', '4': 'Jamie Rowe'}\n",
    "\n",
    "**Required Output =** \n",
    "\n",
    "Length of dictionary values:\n",
    "\n",
    "{'red': 3, 'green': 5, 'black': 5, 'white': 5}\n",
    "\n",
    "\n",
    "Length of dictionary values:\n",
    "\n",
    "{'Austin Little': 13, 'Natasha Howard': 14, 'Alfred Mullins': 14, 'Jamie Rowe': 10}"
   ]
  },
  {
   "cell_type": "code",
   "execution_count": 101,
   "metadata": {
    "id": "hdG6AWh6nP9t"
   },
   "outputs": [],
   "source": [
    "def count(d):\n",
    "    d2={}\n",
    "    for key,value in d.items():\n",
    "        d2[d[key]]=len(d[key])\n",
    "    return d2"
   ]
  },
  {
   "cell_type": "code",
   "execution_count": 102,
   "metadata": {},
   "outputs": [],
   "source": [
    "D1 = {1: 'red', 2: 'green', 3: 'black', 4: 'whites', 5: 'black'}\n",
    "D2 = {'1': 'Austin Little', '2': 'Natasha Howard', '3': 'Alfred Mullins', '4': 'Jamie Rowe'}"
   ]
  },
  {
   "cell_type": "code",
   "execution_count": 103,
   "metadata": {},
   "outputs": [
    {
     "data": {
      "text/plain": [
       "{'Austin Little': 13,\n",
       " 'Natasha Howard': 14,\n",
       " 'Alfred Mullins': 14,\n",
       " 'Jamie Rowe': 10}"
      ]
     },
     "execution_count": 103,
     "metadata": {},
     "output_type": "execute_result"
    }
   ],
   "source": [
    "count(D2)"
   ]
  },
  {
   "cell_type": "code",
   "execution_count": null,
   "metadata": {},
   "outputs": [],
   "source": []
  }
 ],
 "metadata": {
  "colab": {
   "collapsed_sections": [],
   "name": "Python Data Types: Dictionary - Exercises .ipynb",
   "private_outputs": true,
   "provenance": []
  },
  "kernelspec": {
   "display_name": "Python 3",
   "language": "python",
   "name": "python3"
  },
  "language_info": {
   "codemirror_mode": {
    "name": "ipython",
    "version": 3
   },
   "file_extension": ".py",
   "mimetype": "text/x-python",
   "name": "python",
   "nbconvert_exporter": "python",
   "pygments_lexer": "ipython3",
   "version": "3.8.3"
  }
 },
 "nbformat": 4,
 "nbformat_minor": 1
}
